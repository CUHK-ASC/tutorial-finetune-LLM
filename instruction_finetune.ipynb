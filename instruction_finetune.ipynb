{
 "cells": [
  {
   "cell_type": "code",
   "execution_count": 1,
   "metadata": {},
   "outputs": [
    {
     "name": "stderr",
     "output_type": "stream",
     "text": [
      "/home/heichtai/Projects/tutorial-finetune-LLM/.venv/lib/python3.9/site-packages/tqdm/auto.py:21: TqdmWarning: IProgress not found. Please update jupyter and ipywidgets. See https://ipywidgets.readthedocs.io/en/stable/user_install.html\n",
      "  from .autonotebook import tqdm as notebook_tqdm\n"
     ]
    }
   ],
   "source": [
    "from datetime import datetime\n",
    "import transformers\n",
    "from peft import LoraConfig, prepare_model_for_kbit_training, get_peft_model\n",
    "from datasets import load_dataset\n",
    "from transformers import AutoTokenizer, Trainer, AutoModelForCausalLM, BitsAndBytesConfig\n",
    "import torch\n",
    "import os"
   ]
  },
  {
   "cell_type": "code",
   "execution_count": 10,
   "metadata": {},
   "outputs": [],
   "source": [
    "project = \"Evol-Instruct-Code-80k-v1-10-precent\"\n",
    "base_model_name = \"phi-2\"\n",
    "run_name = base_model_name + \"-\" + project\n",
    "output_dir = \"./\" + run_name"
   ]
  },
  {
   "cell_type": "code",
   "execution_count": 2,
   "metadata": {},
   "outputs": [
    {
     "name": "stdout",
     "output_type": "stream",
     "text": [
      "Dataset({\n",
      "    features: ['instruction', 'output'],\n",
      "    num_rows: 7826\n",
      "})\n"
     ]
    }
   ],
   "source": [
    "huggingface_dataset_name = \"nickrosh/Evol-Instruct-Code-80k-v1\"\n",
    "# For the sake of this example, we will only use the first 10% of the training set\n",
    "train_dataset = load_dataset(huggingface_dataset_name, split=\"train[:10%]\")\n",
    "print(train_dataset)"
   ]
  },
  {
   "cell_type": "code",
   "execution_count": 6,
   "metadata": {},
   "outputs": [
    {
     "name": "stderr",
     "output_type": "stream",
     "text": [
      "modeling_phi.py: 100%|██████████| 33.7k/33.7k [00:00<00:00, 174kB/s]\n",
      "Downloading shards: 100%|██████████| 2/2 [00:01<00:00,  1.92it/s]\n",
      "Loading checkpoint shards: 100%|██████████| 2/2 [00:00<00:00,  2.02it/s]\n",
      "You are using an old version of the checkpointing format that is deprecated (We will also silently ignore `gradient_checkpointing_kwargs` in case you passed it).Please update to the new format on your modeling file. To use the new format, you need to completely remove the definition of the method `_set_gradient_checkpointing` in your model.\n"
     ]
    }
   ],
   "source": [
    "model_name = 'microsoft/phi-2'\n",
    "\n",
    "\n",
    "bnb_config = BitsAndBytesConfig(\n",
    "    load_in_4bit=True,\n",
    "    bnb_4bit_use_double_quant=True,\n",
    "    bnb_4bit_quant_type=\"nf4\",\n",
    "    bnb_4bit_compute_dtype=torch.bfloat16,\n",
    ")\n",
    "model = AutoModelForCausalLM.from_pretrained(\n",
    "    model_name,\n",
    "    quantization_config=bnb_config,\n",
    "    trust_remote_code=True,\n",
    "    # This is the PR that adds gradient checkpointing. It is not merged yet. This kind of thing is the cost of being on the bleeding edge.\n",
    "    revision=\"refs/pr/23\",\n",
    ")\n",
    "\n",
    "model = prepare_model_for_kbit_training(model)"
   ]
  },
  {
   "cell_type": "code",
   "execution_count": 23,
   "metadata": {},
   "outputs": [
    {
     "name": "stderr",
     "output_type": "stream",
     "text": [
      "Special tokens have been added in the vocabulary, make sure the associated word embeddings are fine-tuned or trained.\n"
     ]
    }
   ],
   "source": [
    "tokenizer = AutoTokenizer.from_pretrained(\n",
    "    model_name,\n",
    "    padding_side=\"left\",\n",
    "    add_eos_token=True,\n",
    "    use_fast=True,\n",
    ")\n",
    "\n",
    "# add special tokens for ChatML formatting and a pad token\n",
    "tokenizer.add_tokens([\"<|im_start|>\", \"<PAD>\"])\n",
    "tokenizer.pad_token = \"<PAD>\"\n",
    "tokenizer.add_special_tokens(dict(eos_token=\"<|im_end|>\"))\n",
    "\n",
    "# resize model embeddings\n",
    "model.resize_token_embeddings(\n",
    "    new_num_tokens=len(tokenizer),\n",
    "    pad_to_multiple_of=64)   # phi2 default is 64, see configuration_phi.py\n",
    "model.config.eos_token_id = tokenizer.eos_token_id"
   ]
  },
  {
   "cell_type": "code",
   "execution_count": 9,
   "metadata": {},
   "outputs": [
    {
     "name": "stderr",
     "output_type": "stream",
     "text": [
      "Map (num_proc=32): 100%|██████████| 7826/7826 [00:00<00:00, 11640.09 examples/s]\n"
     ]
    }
   ],
   "source": [
    "def get_prompt(inst):\n",
    "    return f\"\"\"\n",
    "    # System:\n",
    "    You are a helpful AI assistant. Follow the instruction. \n",
    "    # INSTRUCTION:\n",
    "    {inst}\n",
    "    # CODE:\n",
    "    \"\"\"\n",
    "\n",
    "\n",
    "def tokenize_function(data_point):\n",
    "    prompts = [get_prompt(inst) for inst in data_point['instruction']]\n",
    "    data_point['input_ids'] = tokenizer(\n",
    "        prompts,\n",
    "        truncation=True,\n",
    "        max_length=tokenizer.model_max_length,\n",
    "        padding='max_length',\n",
    "    ).input_ids\n",
    "    data_point['labels'] = tokenizer(\n",
    "        data_point['output'],\n",
    "        truncation=True,\n",
    "        max_length=tokenizer.model_max_length,\n",
    "        padding='max_length',\n",
    "    ).input_ids\n",
    "    return data_point\n",
    "\n",
    "\n",
    "tokenized_train_dataset = train_dataset.map(\n",
    "    tokenize_function, batched=True, num_proc=os.cpu_count())"
   ]
  },
  {
   "cell_type": "code",
   "execution_count": 17,
   "metadata": {},
   "outputs": [
    {
     "name": "stdout",
     "output_type": "stream",
     "text": [
      "odict_keys(['transformer.embd.wte.weight', 'transformer.h.0.ln.weight', 'transformer.h.0.ln.bias', 'transformer.h.0.mixer.Wqkv.weight', 'transformer.h.0.mixer.Wqkv.bias', 'transformer.h.0.mixer.Wqkv.weight.absmax', 'transformer.h.0.mixer.Wqkv.weight.quant_map', 'transformer.h.0.mixer.Wqkv.weight.nested_absmax', 'transformer.h.0.mixer.Wqkv.weight.nested_quant_map', 'transformer.h.0.mixer.Wqkv.weight.quant_state.bitsandbytes__nf4', 'transformer.h.0.mixer.out_proj.weight', 'transformer.h.0.mixer.out_proj.bias', 'transformer.h.0.mixer.out_proj.weight.absmax', 'transformer.h.0.mixer.out_proj.weight.quant_map', 'transformer.h.0.mixer.out_proj.weight.nested_absmax', 'transformer.h.0.mixer.out_proj.weight.nested_quant_map', 'transformer.h.0.mixer.out_proj.weight.quant_state.bitsandbytes__nf4', 'transformer.h.0.mlp.fc1.weight', 'transformer.h.0.mlp.fc1.bias', 'transformer.h.0.mlp.fc1.weight.absmax', 'transformer.h.0.mlp.fc1.weight.quant_map', 'transformer.h.0.mlp.fc1.weight.nested_absmax', 'transformer.h.0.mlp.fc1.weight.nested_quant_map', 'transformer.h.0.mlp.fc1.weight.quant_state.bitsandbytes__nf4', 'transformer.h.0.mlp.fc2.weight', 'transformer.h.0.mlp.fc2.bias', 'transformer.h.0.mlp.fc2.weight.absmax', 'transformer.h.0.mlp.fc2.weight.quant_map', 'transformer.h.0.mlp.fc2.weight.nested_absmax', 'transformer.h.0.mlp.fc2.weight.nested_quant_map', 'transformer.h.0.mlp.fc2.weight.quant_state.bitsandbytes__nf4', 'transformer.h.1.ln.weight', 'transformer.h.1.ln.bias', 'transformer.h.1.mixer.Wqkv.weight', 'transformer.h.1.mixer.Wqkv.bias', 'transformer.h.1.mixer.Wqkv.weight.absmax', 'transformer.h.1.mixer.Wqkv.weight.quant_map', 'transformer.h.1.mixer.Wqkv.weight.nested_absmax', 'transformer.h.1.mixer.Wqkv.weight.nested_quant_map', 'transformer.h.1.mixer.Wqkv.weight.quant_state.bitsandbytes__nf4', 'transformer.h.1.mixer.out_proj.weight', 'transformer.h.1.mixer.out_proj.bias', 'transformer.h.1.mixer.out_proj.weight.absmax', 'transformer.h.1.mixer.out_proj.weight.quant_map', 'transformer.h.1.mixer.out_proj.weight.nested_absmax', 'transformer.h.1.mixer.out_proj.weight.nested_quant_map', 'transformer.h.1.mixer.out_proj.weight.quant_state.bitsandbytes__nf4', 'transformer.h.1.mlp.fc1.weight', 'transformer.h.1.mlp.fc1.bias', 'transformer.h.1.mlp.fc1.weight.absmax', 'transformer.h.1.mlp.fc1.weight.quant_map', 'transformer.h.1.mlp.fc1.weight.nested_absmax', 'transformer.h.1.mlp.fc1.weight.nested_quant_map', 'transformer.h.1.mlp.fc1.weight.quant_state.bitsandbytes__nf4', 'transformer.h.1.mlp.fc2.weight', 'transformer.h.1.mlp.fc2.bias', 'transformer.h.1.mlp.fc2.weight.absmax', 'transformer.h.1.mlp.fc2.weight.quant_map', 'transformer.h.1.mlp.fc2.weight.nested_absmax', 'transformer.h.1.mlp.fc2.weight.nested_quant_map', 'transformer.h.1.mlp.fc2.weight.quant_state.bitsandbytes__nf4', 'transformer.h.2.ln.weight', 'transformer.h.2.ln.bias', 'transformer.h.2.mixer.Wqkv.weight', 'transformer.h.2.mixer.Wqkv.bias', 'transformer.h.2.mixer.Wqkv.weight.absmax', 'transformer.h.2.mixer.Wqkv.weight.quant_map', 'transformer.h.2.mixer.Wqkv.weight.nested_absmax', 'transformer.h.2.mixer.Wqkv.weight.nested_quant_map', 'transformer.h.2.mixer.Wqkv.weight.quant_state.bitsandbytes__nf4', 'transformer.h.2.mixer.out_proj.weight', 'transformer.h.2.mixer.out_proj.bias', 'transformer.h.2.mixer.out_proj.weight.absmax', 'transformer.h.2.mixer.out_proj.weight.quant_map', 'transformer.h.2.mixer.out_proj.weight.nested_absmax', 'transformer.h.2.mixer.out_proj.weight.nested_quant_map', 'transformer.h.2.mixer.out_proj.weight.quant_state.bitsandbytes__nf4', 'transformer.h.2.mlp.fc1.weight', 'transformer.h.2.mlp.fc1.bias', 'transformer.h.2.mlp.fc1.weight.absmax', 'transformer.h.2.mlp.fc1.weight.quant_map', 'transformer.h.2.mlp.fc1.weight.nested_absmax', 'transformer.h.2.mlp.fc1.weight.nested_quant_map', 'transformer.h.2.mlp.fc1.weight.quant_state.bitsandbytes__nf4', 'transformer.h.2.mlp.fc2.weight', 'transformer.h.2.mlp.fc2.bias', 'transformer.h.2.mlp.fc2.weight.absmax', 'transformer.h.2.mlp.fc2.weight.quant_map', 'transformer.h.2.mlp.fc2.weight.nested_absmax', 'transformer.h.2.mlp.fc2.weight.nested_quant_map', 'transformer.h.2.mlp.fc2.weight.quant_state.bitsandbytes__nf4', 'transformer.h.3.ln.weight', 'transformer.h.3.ln.bias', 'transformer.h.3.mixer.Wqkv.weight', 'transformer.h.3.mixer.Wqkv.bias', 'transformer.h.3.mixer.Wqkv.weight.absmax', 'transformer.h.3.mixer.Wqkv.weight.quant_map', 'transformer.h.3.mixer.Wqkv.weight.nested_absmax', 'transformer.h.3.mixer.Wqkv.weight.nested_quant_map', 'transformer.h.3.mixer.Wqkv.weight.quant_state.bitsandbytes__nf4', 'transformer.h.3.mixer.out_proj.weight', 'transformer.h.3.mixer.out_proj.bias', 'transformer.h.3.mixer.out_proj.weight.absmax', 'transformer.h.3.mixer.out_proj.weight.quant_map', 'transformer.h.3.mixer.out_proj.weight.nested_absmax', 'transformer.h.3.mixer.out_proj.weight.nested_quant_map', 'transformer.h.3.mixer.out_proj.weight.quant_state.bitsandbytes__nf4', 'transformer.h.3.mlp.fc1.weight', 'transformer.h.3.mlp.fc1.bias', 'transformer.h.3.mlp.fc1.weight.absmax', 'transformer.h.3.mlp.fc1.weight.quant_map', 'transformer.h.3.mlp.fc1.weight.nested_absmax', 'transformer.h.3.mlp.fc1.weight.nested_quant_map', 'transformer.h.3.mlp.fc1.weight.quant_state.bitsandbytes__nf4', 'transformer.h.3.mlp.fc2.weight', 'transformer.h.3.mlp.fc2.bias', 'transformer.h.3.mlp.fc2.weight.absmax', 'transformer.h.3.mlp.fc2.weight.quant_map', 'transformer.h.3.mlp.fc2.weight.nested_absmax', 'transformer.h.3.mlp.fc2.weight.nested_quant_map', 'transformer.h.3.mlp.fc2.weight.quant_state.bitsandbytes__nf4', 'transformer.h.4.ln.weight', 'transformer.h.4.ln.bias', 'transformer.h.4.mixer.Wqkv.weight', 'transformer.h.4.mixer.Wqkv.bias', 'transformer.h.4.mixer.Wqkv.weight.absmax', 'transformer.h.4.mixer.Wqkv.weight.quant_map', 'transformer.h.4.mixer.Wqkv.weight.nested_absmax', 'transformer.h.4.mixer.Wqkv.weight.nested_quant_map', 'transformer.h.4.mixer.Wqkv.weight.quant_state.bitsandbytes__nf4', 'transformer.h.4.mixer.out_proj.weight', 'transformer.h.4.mixer.out_proj.bias', 'transformer.h.4.mixer.out_proj.weight.absmax', 'transformer.h.4.mixer.out_proj.weight.quant_map', 'transformer.h.4.mixer.out_proj.weight.nested_absmax', 'transformer.h.4.mixer.out_proj.weight.nested_quant_map', 'transformer.h.4.mixer.out_proj.weight.quant_state.bitsandbytes__nf4', 'transformer.h.4.mlp.fc1.weight', 'transformer.h.4.mlp.fc1.bias', 'transformer.h.4.mlp.fc1.weight.absmax', 'transformer.h.4.mlp.fc1.weight.quant_map', 'transformer.h.4.mlp.fc1.weight.nested_absmax', 'transformer.h.4.mlp.fc1.weight.nested_quant_map', 'transformer.h.4.mlp.fc1.weight.quant_state.bitsandbytes__nf4', 'transformer.h.4.mlp.fc2.weight', 'transformer.h.4.mlp.fc2.bias', 'transformer.h.4.mlp.fc2.weight.absmax', 'transformer.h.4.mlp.fc2.weight.quant_map', 'transformer.h.4.mlp.fc2.weight.nested_absmax', 'transformer.h.4.mlp.fc2.weight.nested_quant_map', 'transformer.h.4.mlp.fc2.weight.quant_state.bitsandbytes__nf4', 'transformer.h.5.ln.weight', 'transformer.h.5.ln.bias', 'transformer.h.5.mixer.Wqkv.weight', 'transformer.h.5.mixer.Wqkv.bias', 'transformer.h.5.mixer.Wqkv.weight.absmax', 'transformer.h.5.mixer.Wqkv.weight.quant_map', 'transformer.h.5.mixer.Wqkv.weight.nested_absmax', 'transformer.h.5.mixer.Wqkv.weight.nested_quant_map', 'transformer.h.5.mixer.Wqkv.weight.quant_state.bitsandbytes__nf4', 'transformer.h.5.mixer.out_proj.weight', 'transformer.h.5.mixer.out_proj.bias', 'transformer.h.5.mixer.out_proj.weight.absmax', 'transformer.h.5.mixer.out_proj.weight.quant_map', 'transformer.h.5.mixer.out_proj.weight.nested_absmax', 'transformer.h.5.mixer.out_proj.weight.nested_quant_map', 'transformer.h.5.mixer.out_proj.weight.quant_state.bitsandbytes__nf4', 'transformer.h.5.mlp.fc1.weight', 'transformer.h.5.mlp.fc1.bias', 'transformer.h.5.mlp.fc1.weight.absmax', 'transformer.h.5.mlp.fc1.weight.quant_map', 'transformer.h.5.mlp.fc1.weight.nested_absmax', 'transformer.h.5.mlp.fc1.weight.nested_quant_map', 'transformer.h.5.mlp.fc1.weight.quant_state.bitsandbytes__nf4', 'transformer.h.5.mlp.fc2.weight', 'transformer.h.5.mlp.fc2.bias', 'transformer.h.5.mlp.fc2.weight.absmax', 'transformer.h.5.mlp.fc2.weight.quant_map', 'transformer.h.5.mlp.fc2.weight.nested_absmax', 'transformer.h.5.mlp.fc2.weight.nested_quant_map', 'transformer.h.5.mlp.fc2.weight.quant_state.bitsandbytes__nf4', 'transformer.h.6.ln.weight', 'transformer.h.6.ln.bias', 'transformer.h.6.mixer.Wqkv.weight', 'transformer.h.6.mixer.Wqkv.bias', 'transformer.h.6.mixer.Wqkv.weight.absmax', 'transformer.h.6.mixer.Wqkv.weight.quant_map', 'transformer.h.6.mixer.Wqkv.weight.nested_absmax', 'transformer.h.6.mixer.Wqkv.weight.nested_quant_map', 'transformer.h.6.mixer.Wqkv.weight.quant_state.bitsandbytes__nf4', 'transformer.h.6.mixer.out_proj.weight', 'transformer.h.6.mixer.out_proj.bias', 'transformer.h.6.mixer.out_proj.weight.absmax', 'transformer.h.6.mixer.out_proj.weight.quant_map', 'transformer.h.6.mixer.out_proj.weight.nested_absmax', 'transformer.h.6.mixer.out_proj.weight.nested_quant_map', 'transformer.h.6.mixer.out_proj.weight.quant_state.bitsandbytes__nf4', 'transformer.h.6.mlp.fc1.weight', 'transformer.h.6.mlp.fc1.bias', 'transformer.h.6.mlp.fc1.weight.absmax', 'transformer.h.6.mlp.fc1.weight.quant_map', 'transformer.h.6.mlp.fc1.weight.nested_absmax', 'transformer.h.6.mlp.fc1.weight.nested_quant_map', 'transformer.h.6.mlp.fc1.weight.quant_state.bitsandbytes__nf4', 'transformer.h.6.mlp.fc2.weight', 'transformer.h.6.mlp.fc2.bias', 'transformer.h.6.mlp.fc2.weight.absmax', 'transformer.h.6.mlp.fc2.weight.quant_map', 'transformer.h.6.mlp.fc2.weight.nested_absmax', 'transformer.h.6.mlp.fc2.weight.nested_quant_map', 'transformer.h.6.mlp.fc2.weight.quant_state.bitsandbytes__nf4', 'transformer.h.7.ln.weight', 'transformer.h.7.ln.bias', 'transformer.h.7.mixer.Wqkv.weight', 'transformer.h.7.mixer.Wqkv.bias', 'transformer.h.7.mixer.Wqkv.weight.absmax', 'transformer.h.7.mixer.Wqkv.weight.quant_map', 'transformer.h.7.mixer.Wqkv.weight.nested_absmax', 'transformer.h.7.mixer.Wqkv.weight.nested_quant_map', 'transformer.h.7.mixer.Wqkv.weight.quant_state.bitsandbytes__nf4', 'transformer.h.7.mixer.out_proj.weight', 'transformer.h.7.mixer.out_proj.bias', 'transformer.h.7.mixer.out_proj.weight.absmax', 'transformer.h.7.mixer.out_proj.weight.quant_map', 'transformer.h.7.mixer.out_proj.weight.nested_absmax', 'transformer.h.7.mixer.out_proj.weight.nested_quant_map', 'transformer.h.7.mixer.out_proj.weight.quant_state.bitsandbytes__nf4', 'transformer.h.7.mlp.fc1.weight', 'transformer.h.7.mlp.fc1.bias', 'transformer.h.7.mlp.fc1.weight.absmax', 'transformer.h.7.mlp.fc1.weight.quant_map', 'transformer.h.7.mlp.fc1.weight.nested_absmax', 'transformer.h.7.mlp.fc1.weight.nested_quant_map', 'transformer.h.7.mlp.fc1.weight.quant_state.bitsandbytes__nf4', 'transformer.h.7.mlp.fc2.weight', 'transformer.h.7.mlp.fc2.bias', 'transformer.h.7.mlp.fc2.weight.absmax', 'transformer.h.7.mlp.fc2.weight.quant_map', 'transformer.h.7.mlp.fc2.weight.nested_absmax', 'transformer.h.7.mlp.fc2.weight.nested_quant_map', 'transformer.h.7.mlp.fc2.weight.quant_state.bitsandbytes__nf4', 'transformer.h.8.ln.weight', 'transformer.h.8.ln.bias', 'transformer.h.8.mixer.Wqkv.weight', 'transformer.h.8.mixer.Wqkv.bias', 'transformer.h.8.mixer.Wqkv.weight.absmax', 'transformer.h.8.mixer.Wqkv.weight.quant_map', 'transformer.h.8.mixer.Wqkv.weight.nested_absmax', 'transformer.h.8.mixer.Wqkv.weight.nested_quant_map', 'transformer.h.8.mixer.Wqkv.weight.quant_state.bitsandbytes__nf4', 'transformer.h.8.mixer.out_proj.weight', 'transformer.h.8.mixer.out_proj.bias', 'transformer.h.8.mixer.out_proj.weight.absmax', 'transformer.h.8.mixer.out_proj.weight.quant_map', 'transformer.h.8.mixer.out_proj.weight.nested_absmax', 'transformer.h.8.mixer.out_proj.weight.nested_quant_map', 'transformer.h.8.mixer.out_proj.weight.quant_state.bitsandbytes__nf4', 'transformer.h.8.mlp.fc1.weight', 'transformer.h.8.mlp.fc1.bias', 'transformer.h.8.mlp.fc1.weight.absmax', 'transformer.h.8.mlp.fc1.weight.quant_map', 'transformer.h.8.mlp.fc1.weight.nested_absmax', 'transformer.h.8.mlp.fc1.weight.nested_quant_map', 'transformer.h.8.mlp.fc1.weight.quant_state.bitsandbytes__nf4', 'transformer.h.8.mlp.fc2.weight', 'transformer.h.8.mlp.fc2.bias', 'transformer.h.8.mlp.fc2.weight.absmax', 'transformer.h.8.mlp.fc2.weight.quant_map', 'transformer.h.8.mlp.fc2.weight.nested_absmax', 'transformer.h.8.mlp.fc2.weight.nested_quant_map', 'transformer.h.8.mlp.fc2.weight.quant_state.bitsandbytes__nf4', 'transformer.h.9.ln.weight', 'transformer.h.9.ln.bias', 'transformer.h.9.mixer.Wqkv.weight', 'transformer.h.9.mixer.Wqkv.bias', 'transformer.h.9.mixer.Wqkv.weight.absmax', 'transformer.h.9.mixer.Wqkv.weight.quant_map', 'transformer.h.9.mixer.Wqkv.weight.nested_absmax', 'transformer.h.9.mixer.Wqkv.weight.nested_quant_map', 'transformer.h.9.mixer.Wqkv.weight.quant_state.bitsandbytes__nf4', 'transformer.h.9.mixer.out_proj.weight', 'transformer.h.9.mixer.out_proj.bias', 'transformer.h.9.mixer.out_proj.weight.absmax', 'transformer.h.9.mixer.out_proj.weight.quant_map', 'transformer.h.9.mixer.out_proj.weight.nested_absmax', 'transformer.h.9.mixer.out_proj.weight.nested_quant_map', 'transformer.h.9.mixer.out_proj.weight.quant_state.bitsandbytes__nf4', 'transformer.h.9.mlp.fc1.weight', 'transformer.h.9.mlp.fc1.bias', 'transformer.h.9.mlp.fc1.weight.absmax', 'transformer.h.9.mlp.fc1.weight.quant_map', 'transformer.h.9.mlp.fc1.weight.nested_absmax', 'transformer.h.9.mlp.fc1.weight.nested_quant_map', 'transformer.h.9.mlp.fc1.weight.quant_state.bitsandbytes__nf4', 'transformer.h.9.mlp.fc2.weight', 'transformer.h.9.mlp.fc2.bias', 'transformer.h.9.mlp.fc2.weight.absmax', 'transformer.h.9.mlp.fc2.weight.quant_map', 'transformer.h.9.mlp.fc2.weight.nested_absmax', 'transformer.h.9.mlp.fc2.weight.nested_quant_map', 'transformer.h.9.mlp.fc2.weight.quant_state.bitsandbytes__nf4', 'transformer.h.10.ln.weight', 'transformer.h.10.ln.bias', 'transformer.h.10.mixer.Wqkv.weight', 'transformer.h.10.mixer.Wqkv.bias', 'transformer.h.10.mixer.Wqkv.weight.absmax', 'transformer.h.10.mixer.Wqkv.weight.quant_map', 'transformer.h.10.mixer.Wqkv.weight.nested_absmax', 'transformer.h.10.mixer.Wqkv.weight.nested_quant_map', 'transformer.h.10.mixer.Wqkv.weight.quant_state.bitsandbytes__nf4', 'transformer.h.10.mixer.out_proj.weight', 'transformer.h.10.mixer.out_proj.bias', 'transformer.h.10.mixer.out_proj.weight.absmax', 'transformer.h.10.mixer.out_proj.weight.quant_map', 'transformer.h.10.mixer.out_proj.weight.nested_absmax', 'transformer.h.10.mixer.out_proj.weight.nested_quant_map', 'transformer.h.10.mixer.out_proj.weight.quant_state.bitsandbytes__nf4', 'transformer.h.10.mlp.fc1.weight', 'transformer.h.10.mlp.fc1.bias', 'transformer.h.10.mlp.fc1.weight.absmax', 'transformer.h.10.mlp.fc1.weight.quant_map', 'transformer.h.10.mlp.fc1.weight.nested_absmax', 'transformer.h.10.mlp.fc1.weight.nested_quant_map', 'transformer.h.10.mlp.fc1.weight.quant_state.bitsandbytes__nf4', 'transformer.h.10.mlp.fc2.weight', 'transformer.h.10.mlp.fc2.bias', 'transformer.h.10.mlp.fc2.weight.absmax', 'transformer.h.10.mlp.fc2.weight.quant_map', 'transformer.h.10.mlp.fc2.weight.nested_absmax', 'transformer.h.10.mlp.fc2.weight.nested_quant_map', 'transformer.h.10.mlp.fc2.weight.quant_state.bitsandbytes__nf4', 'transformer.h.11.ln.weight', 'transformer.h.11.ln.bias', 'transformer.h.11.mixer.Wqkv.weight', 'transformer.h.11.mixer.Wqkv.bias', 'transformer.h.11.mixer.Wqkv.weight.absmax', 'transformer.h.11.mixer.Wqkv.weight.quant_map', 'transformer.h.11.mixer.Wqkv.weight.nested_absmax', 'transformer.h.11.mixer.Wqkv.weight.nested_quant_map', 'transformer.h.11.mixer.Wqkv.weight.quant_state.bitsandbytes__nf4', 'transformer.h.11.mixer.out_proj.weight', 'transformer.h.11.mixer.out_proj.bias', 'transformer.h.11.mixer.out_proj.weight.absmax', 'transformer.h.11.mixer.out_proj.weight.quant_map', 'transformer.h.11.mixer.out_proj.weight.nested_absmax', 'transformer.h.11.mixer.out_proj.weight.nested_quant_map', 'transformer.h.11.mixer.out_proj.weight.quant_state.bitsandbytes__nf4', 'transformer.h.11.mlp.fc1.weight', 'transformer.h.11.mlp.fc1.bias', 'transformer.h.11.mlp.fc1.weight.absmax', 'transformer.h.11.mlp.fc1.weight.quant_map', 'transformer.h.11.mlp.fc1.weight.nested_absmax', 'transformer.h.11.mlp.fc1.weight.nested_quant_map', 'transformer.h.11.mlp.fc1.weight.quant_state.bitsandbytes__nf4', 'transformer.h.11.mlp.fc2.weight', 'transformer.h.11.mlp.fc2.bias', 'transformer.h.11.mlp.fc2.weight.absmax', 'transformer.h.11.mlp.fc2.weight.quant_map', 'transformer.h.11.mlp.fc2.weight.nested_absmax', 'transformer.h.11.mlp.fc2.weight.nested_quant_map', 'transformer.h.11.mlp.fc2.weight.quant_state.bitsandbytes__nf4', 'transformer.h.12.ln.weight', 'transformer.h.12.ln.bias', 'transformer.h.12.mixer.Wqkv.weight', 'transformer.h.12.mixer.Wqkv.bias', 'transformer.h.12.mixer.Wqkv.weight.absmax', 'transformer.h.12.mixer.Wqkv.weight.quant_map', 'transformer.h.12.mixer.Wqkv.weight.nested_absmax', 'transformer.h.12.mixer.Wqkv.weight.nested_quant_map', 'transformer.h.12.mixer.Wqkv.weight.quant_state.bitsandbytes__nf4', 'transformer.h.12.mixer.out_proj.weight', 'transformer.h.12.mixer.out_proj.bias', 'transformer.h.12.mixer.out_proj.weight.absmax', 'transformer.h.12.mixer.out_proj.weight.quant_map', 'transformer.h.12.mixer.out_proj.weight.nested_absmax', 'transformer.h.12.mixer.out_proj.weight.nested_quant_map', 'transformer.h.12.mixer.out_proj.weight.quant_state.bitsandbytes__nf4', 'transformer.h.12.mlp.fc1.weight', 'transformer.h.12.mlp.fc1.bias', 'transformer.h.12.mlp.fc1.weight.absmax', 'transformer.h.12.mlp.fc1.weight.quant_map', 'transformer.h.12.mlp.fc1.weight.nested_absmax', 'transformer.h.12.mlp.fc1.weight.nested_quant_map', 'transformer.h.12.mlp.fc1.weight.quant_state.bitsandbytes__nf4', 'transformer.h.12.mlp.fc2.weight', 'transformer.h.12.mlp.fc2.bias', 'transformer.h.12.mlp.fc2.weight.absmax', 'transformer.h.12.mlp.fc2.weight.quant_map', 'transformer.h.12.mlp.fc2.weight.nested_absmax', 'transformer.h.12.mlp.fc2.weight.nested_quant_map', 'transformer.h.12.mlp.fc2.weight.quant_state.bitsandbytes__nf4', 'transformer.h.13.ln.weight', 'transformer.h.13.ln.bias', 'transformer.h.13.mixer.Wqkv.weight', 'transformer.h.13.mixer.Wqkv.bias', 'transformer.h.13.mixer.Wqkv.weight.absmax', 'transformer.h.13.mixer.Wqkv.weight.quant_map', 'transformer.h.13.mixer.Wqkv.weight.nested_absmax', 'transformer.h.13.mixer.Wqkv.weight.nested_quant_map', 'transformer.h.13.mixer.Wqkv.weight.quant_state.bitsandbytes__nf4', 'transformer.h.13.mixer.out_proj.weight', 'transformer.h.13.mixer.out_proj.bias', 'transformer.h.13.mixer.out_proj.weight.absmax', 'transformer.h.13.mixer.out_proj.weight.quant_map', 'transformer.h.13.mixer.out_proj.weight.nested_absmax', 'transformer.h.13.mixer.out_proj.weight.nested_quant_map', 'transformer.h.13.mixer.out_proj.weight.quant_state.bitsandbytes__nf4', 'transformer.h.13.mlp.fc1.weight', 'transformer.h.13.mlp.fc1.bias', 'transformer.h.13.mlp.fc1.weight.absmax', 'transformer.h.13.mlp.fc1.weight.quant_map', 'transformer.h.13.mlp.fc1.weight.nested_absmax', 'transformer.h.13.mlp.fc1.weight.nested_quant_map', 'transformer.h.13.mlp.fc1.weight.quant_state.bitsandbytes__nf4', 'transformer.h.13.mlp.fc2.weight', 'transformer.h.13.mlp.fc2.bias', 'transformer.h.13.mlp.fc2.weight.absmax', 'transformer.h.13.mlp.fc2.weight.quant_map', 'transformer.h.13.mlp.fc2.weight.nested_absmax', 'transformer.h.13.mlp.fc2.weight.nested_quant_map', 'transformer.h.13.mlp.fc2.weight.quant_state.bitsandbytes__nf4', 'transformer.h.14.ln.weight', 'transformer.h.14.ln.bias', 'transformer.h.14.mixer.Wqkv.weight', 'transformer.h.14.mixer.Wqkv.bias', 'transformer.h.14.mixer.Wqkv.weight.absmax', 'transformer.h.14.mixer.Wqkv.weight.quant_map', 'transformer.h.14.mixer.Wqkv.weight.nested_absmax', 'transformer.h.14.mixer.Wqkv.weight.nested_quant_map', 'transformer.h.14.mixer.Wqkv.weight.quant_state.bitsandbytes__nf4', 'transformer.h.14.mixer.out_proj.weight', 'transformer.h.14.mixer.out_proj.bias', 'transformer.h.14.mixer.out_proj.weight.absmax', 'transformer.h.14.mixer.out_proj.weight.quant_map', 'transformer.h.14.mixer.out_proj.weight.nested_absmax', 'transformer.h.14.mixer.out_proj.weight.nested_quant_map', 'transformer.h.14.mixer.out_proj.weight.quant_state.bitsandbytes__nf4', 'transformer.h.14.mlp.fc1.weight', 'transformer.h.14.mlp.fc1.bias', 'transformer.h.14.mlp.fc1.weight.absmax', 'transformer.h.14.mlp.fc1.weight.quant_map', 'transformer.h.14.mlp.fc1.weight.nested_absmax', 'transformer.h.14.mlp.fc1.weight.nested_quant_map', 'transformer.h.14.mlp.fc1.weight.quant_state.bitsandbytes__nf4', 'transformer.h.14.mlp.fc2.weight', 'transformer.h.14.mlp.fc2.bias', 'transformer.h.14.mlp.fc2.weight.absmax', 'transformer.h.14.mlp.fc2.weight.quant_map', 'transformer.h.14.mlp.fc2.weight.nested_absmax', 'transformer.h.14.mlp.fc2.weight.nested_quant_map', 'transformer.h.14.mlp.fc2.weight.quant_state.bitsandbytes__nf4', 'transformer.h.15.ln.weight', 'transformer.h.15.ln.bias', 'transformer.h.15.mixer.Wqkv.weight', 'transformer.h.15.mixer.Wqkv.bias', 'transformer.h.15.mixer.Wqkv.weight.absmax', 'transformer.h.15.mixer.Wqkv.weight.quant_map', 'transformer.h.15.mixer.Wqkv.weight.nested_absmax', 'transformer.h.15.mixer.Wqkv.weight.nested_quant_map', 'transformer.h.15.mixer.Wqkv.weight.quant_state.bitsandbytes__nf4', 'transformer.h.15.mixer.out_proj.weight', 'transformer.h.15.mixer.out_proj.bias', 'transformer.h.15.mixer.out_proj.weight.absmax', 'transformer.h.15.mixer.out_proj.weight.quant_map', 'transformer.h.15.mixer.out_proj.weight.nested_absmax', 'transformer.h.15.mixer.out_proj.weight.nested_quant_map', 'transformer.h.15.mixer.out_proj.weight.quant_state.bitsandbytes__nf4', 'transformer.h.15.mlp.fc1.weight', 'transformer.h.15.mlp.fc1.bias', 'transformer.h.15.mlp.fc1.weight.absmax', 'transformer.h.15.mlp.fc1.weight.quant_map', 'transformer.h.15.mlp.fc1.weight.nested_absmax', 'transformer.h.15.mlp.fc1.weight.nested_quant_map', 'transformer.h.15.mlp.fc1.weight.quant_state.bitsandbytes__nf4', 'transformer.h.15.mlp.fc2.weight', 'transformer.h.15.mlp.fc2.bias', 'transformer.h.15.mlp.fc2.weight.absmax', 'transformer.h.15.mlp.fc2.weight.quant_map', 'transformer.h.15.mlp.fc2.weight.nested_absmax', 'transformer.h.15.mlp.fc2.weight.nested_quant_map', 'transformer.h.15.mlp.fc2.weight.quant_state.bitsandbytes__nf4', 'transformer.h.16.ln.weight', 'transformer.h.16.ln.bias', 'transformer.h.16.mixer.Wqkv.weight', 'transformer.h.16.mixer.Wqkv.bias', 'transformer.h.16.mixer.Wqkv.weight.absmax', 'transformer.h.16.mixer.Wqkv.weight.quant_map', 'transformer.h.16.mixer.Wqkv.weight.nested_absmax', 'transformer.h.16.mixer.Wqkv.weight.nested_quant_map', 'transformer.h.16.mixer.Wqkv.weight.quant_state.bitsandbytes__nf4', 'transformer.h.16.mixer.out_proj.weight', 'transformer.h.16.mixer.out_proj.bias', 'transformer.h.16.mixer.out_proj.weight.absmax', 'transformer.h.16.mixer.out_proj.weight.quant_map', 'transformer.h.16.mixer.out_proj.weight.nested_absmax', 'transformer.h.16.mixer.out_proj.weight.nested_quant_map', 'transformer.h.16.mixer.out_proj.weight.quant_state.bitsandbytes__nf4', 'transformer.h.16.mlp.fc1.weight', 'transformer.h.16.mlp.fc1.bias', 'transformer.h.16.mlp.fc1.weight.absmax', 'transformer.h.16.mlp.fc1.weight.quant_map', 'transformer.h.16.mlp.fc1.weight.nested_absmax', 'transformer.h.16.mlp.fc1.weight.nested_quant_map', 'transformer.h.16.mlp.fc1.weight.quant_state.bitsandbytes__nf4', 'transformer.h.16.mlp.fc2.weight', 'transformer.h.16.mlp.fc2.bias', 'transformer.h.16.mlp.fc2.weight.absmax', 'transformer.h.16.mlp.fc2.weight.quant_map', 'transformer.h.16.mlp.fc2.weight.nested_absmax', 'transformer.h.16.mlp.fc2.weight.nested_quant_map', 'transformer.h.16.mlp.fc2.weight.quant_state.bitsandbytes__nf4', 'transformer.h.17.ln.weight', 'transformer.h.17.ln.bias', 'transformer.h.17.mixer.Wqkv.weight', 'transformer.h.17.mixer.Wqkv.bias', 'transformer.h.17.mixer.Wqkv.weight.absmax', 'transformer.h.17.mixer.Wqkv.weight.quant_map', 'transformer.h.17.mixer.Wqkv.weight.nested_absmax', 'transformer.h.17.mixer.Wqkv.weight.nested_quant_map', 'transformer.h.17.mixer.Wqkv.weight.quant_state.bitsandbytes__nf4', 'transformer.h.17.mixer.out_proj.weight', 'transformer.h.17.mixer.out_proj.bias', 'transformer.h.17.mixer.out_proj.weight.absmax', 'transformer.h.17.mixer.out_proj.weight.quant_map', 'transformer.h.17.mixer.out_proj.weight.nested_absmax', 'transformer.h.17.mixer.out_proj.weight.nested_quant_map', 'transformer.h.17.mixer.out_proj.weight.quant_state.bitsandbytes__nf4', 'transformer.h.17.mlp.fc1.weight', 'transformer.h.17.mlp.fc1.bias', 'transformer.h.17.mlp.fc1.weight.absmax', 'transformer.h.17.mlp.fc1.weight.quant_map', 'transformer.h.17.mlp.fc1.weight.nested_absmax', 'transformer.h.17.mlp.fc1.weight.nested_quant_map', 'transformer.h.17.mlp.fc1.weight.quant_state.bitsandbytes__nf4', 'transformer.h.17.mlp.fc2.weight', 'transformer.h.17.mlp.fc2.bias', 'transformer.h.17.mlp.fc2.weight.absmax', 'transformer.h.17.mlp.fc2.weight.quant_map', 'transformer.h.17.mlp.fc2.weight.nested_absmax', 'transformer.h.17.mlp.fc2.weight.nested_quant_map', 'transformer.h.17.mlp.fc2.weight.quant_state.bitsandbytes__nf4', 'transformer.h.18.ln.weight', 'transformer.h.18.ln.bias', 'transformer.h.18.mixer.Wqkv.weight', 'transformer.h.18.mixer.Wqkv.bias', 'transformer.h.18.mixer.Wqkv.weight.absmax', 'transformer.h.18.mixer.Wqkv.weight.quant_map', 'transformer.h.18.mixer.Wqkv.weight.nested_absmax', 'transformer.h.18.mixer.Wqkv.weight.nested_quant_map', 'transformer.h.18.mixer.Wqkv.weight.quant_state.bitsandbytes__nf4', 'transformer.h.18.mixer.out_proj.weight', 'transformer.h.18.mixer.out_proj.bias', 'transformer.h.18.mixer.out_proj.weight.absmax', 'transformer.h.18.mixer.out_proj.weight.quant_map', 'transformer.h.18.mixer.out_proj.weight.nested_absmax', 'transformer.h.18.mixer.out_proj.weight.nested_quant_map', 'transformer.h.18.mixer.out_proj.weight.quant_state.bitsandbytes__nf4', 'transformer.h.18.mlp.fc1.weight', 'transformer.h.18.mlp.fc1.bias', 'transformer.h.18.mlp.fc1.weight.absmax', 'transformer.h.18.mlp.fc1.weight.quant_map', 'transformer.h.18.mlp.fc1.weight.nested_absmax', 'transformer.h.18.mlp.fc1.weight.nested_quant_map', 'transformer.h.18.mlp.fc1.weight.quant_state.bitsandbytes__nf4', 'transformer.h.18.mlp.fc2.weight', 'transformer.h.18.mlp.fc2.bias', 'transformer.h.18.mlp.fc2.weight.absmax', 'transformer.h.18.mlp.fc2.weight.quant_map', 'transformer.h.18.mlp.fc2.weight.nested_absmax', 'transformer.h.18.mlp.fc2.weight.nested_quant_map', 'transformer.h.18.mlp.fc2.weight.quant_state.bitsandbytes__nf4', 'transformer.h.19.ln.weight', 'transformer.h.19.ln.bias', 'transformer.h.19.mixer.Wqkv.weight', 'transformer.h.19.mixer.Wqkv.bias', 'transformer.h.19.mixer.Wqkv.weight.absmax', 'transformer.h.19.mixer.Wqkv.weight.quant_map', 'transformer.h.19.mixer.Wqkv.weight.nested_absmax', 'transformer.h.19.mixer.Wqkv.weight.nested_quant_map', 'transformer.h.19.mixer.Wqkv.weight.quant_state.bitsandbytes__nf4', 'transformer.h.19.mixer.out_proj.weight', 'transformer.h.19.mixer.out_proj.bias', 'transformer.h.19.mixer.out_proj.weight.absmax', 'transformer.h.19.mixer.out_proj.weight.quant_map', 'transformer.h.19.mixer.out_proj.weight.nested_absmax', 'transformer.h.19.mixer.out_proj.weight.nested_quant_map', 'transformer.h.19.mixer.out_proj.weight.quant_state.bitsandbytes__nf4', 'transformer.h.19.mlp.fc1.weight', 'transformer.h.19.mlp.fc1.bias', 'transformer.h.19.mlp.fc1.weight.absmax', 'transformer.h.19.mlp.fc1.weight.quant_map', 'transformer.h.19.mlp.fc1.weight.nested_absmax', 'transformer.h.19.mlp.fc1.weight.nested_quant_map', 'transformer.h.19.mlp.fc1.weight.quant_state.bitsandbytes__nf4', 'transformer.h.19.mlp.fc2.weight', 'transformer.h.19.mlp.fc2.bias', 'transformer.h.19.mlp.fc2.weight.absmax', 'transformer.h.19.mlp.fc2.weight.quant_map', 'transformer.h.19.mlp.fc2.weight.nested_absmax', 'transformer.h.19.mlp.fc2.weight.nested_quant_map', 'transformer.h.19.mlp.fc2.weight.quant_state.bitsandbytes__nf4', 'transformer.h.20.ln.weight', 'transformer.h.20.ln.bias', 'transformer.h.20.mixer.Wqkv.weight', 'transformer.h.20.mixer.Wqkv.bias', 'transformer.h.20.mixer.Wqkv.weight.absmax', 'transformer.h.20.mixer.Wqkv.weight.quant_map', 'transformer.h.20.mixer.Wqkv.weight.nested_absmax', 'transformer.h.20.mixer.Wqkv.weight.nested_quant_map', 'transformer.h.20.mixer.Wqkv.weight.quant_state.bitsandbytes__nf4', 'transformer.h.20.mixer.out_proj.weight', 'transformer.h.20.mixer.out_proj.bias', 'transformer.h.20.mixer.out_proj.weight.absmax', 'transformer.h.20.mixer.out_proj.weight.quant_map', 'transformer.h.20.mixer.out_proj.weight.nested_absmax', 'transformer.h.20.mixer.out_proj.weight.nested_quant_map', 'transformer.h.20.mixer.out_proj.weight.quant_state.bitsandbytes__nf4', 'transformer.h.20.mlp.fc1.weight', 'transformer.h.20.mlp.fc1.bias', 'transformer.h.20.mlp.fc1.weight.absmax', 'transformer.h.20.mlp.fc1.weight.quant_map', 'transformer.h.20.mlp.fc1.weight.nested_absmax', 'transformer.h.20.mlp.fc1.weight.nested_quant_map', 'transformer.h.20.mlp.fc1.weight.quant_state.bitsandbytes__nf4', 'transformer.h.20.mlp.fc2.weight', 'transformer.h.20.mlp.fc2.bias', 'transformer.h.20.mlp.fc2.weight.absmax', 'transformer.h.20.mlp.fc2.weight.quant_map', 'transformer.h.20.mlp.fc2.weight.nested_absmax', 'transformer.h.20.mlp.fc2.weight.nested_quant_map', 'transformer.h.20.mlp.fc2.weight.quant_state.bitsandbytes__nf4', 'transformer.h.21.ln.weight', 'transformer.h.21.ln.bias', 'transformer.h.21.mixer.Wqkv.weight', 'transformer.h.21.mixer.Wqkv.bias', 'transformer.h.21.mixer.Wqkv.weight.absmax', 'transformer.h.21.mixer.Wqkv.weight.quant_map', 'transformer.h.21.mixer.Wqkv.weight.nested_absmax', 'transformer.h.21.mixer.Wqkv.weight.nested_quant_map', 'transformer.h.21.mixer.Wqkv.weight.quant_state.bitsandbytes__nf4', 'transformer.h.21.mixer.out_proj.weight', 'transformer.h.21.mixer.out_proj.bias', 'transformer.h.21.mixer.out_proj.weight.absmax', 'transformer.h.21.mixer.out_proj.weight.quant_map', 'transformer.h.21.mixer.out_proj.weight.nested_absmax', 'transformer.h.21.mixer.out_proj.weight.nested_quant_map', 'transformer.h.21.mixer.out_proj.weight.quant_state.bitsandbytes__nf4', 'transformer.h.21.mlp.fc1.weight', 'transformer.h.21.mlp.fc1.bias', 'transformer.h.21.mlp.fc1.weight.absmax', 'transformer.h.21.mlp.fc1.weight.quant_map', 'transformer.h.21.mlp.fc1.weight.nested_absmax', 'transformer.h.21.mlp.fc1.weight.nested_quant_map', 'transformer.h.21.mlp.fc1.weight.quant_state.bitsandbytes__nf4', 'transformer.h.21.mlp.fc2.weight', 'transformer.h.21.mlp.fc2.bias', 'transformer.h.21.mlp.fc2.weight.absmax', 'transformer.h.21.mlp.fc2.weight.quant_map', 'transformer.h.21.mlp.fc2.weight.nested_absmax', 'transformer.h.21.mlp.fc2.weight.nested_quant_map', 'transformer.h.21.mlp.fc2.weight.quant_state.bitsandbytes__nf4', 'transformer.h.22.ln.weight', 'transformer.h.22.ln.bias', 'transformer.h.22.mixer.Wqkv.weight', 'transformer.h.22.mixer.Wqkv.bias', 'transformer.h.22.mixer.Wqkv.weight.absmax', 'transformer.h.22.mixer.Wqkv.weight.quant_map', 'transformer.h.22.mixer.Wqkv.weight.nested_absmax', 'transformer.h.22.mixer.Wqkv.weight.nested_quant_map', 'transformer.h.22.mixer.Wqkv.weight.quant_state.bitsandbytes__nf4', 'transformer.h.22.mixer.out_proj.weight', 'transformer.h.22.mixer.out_proj.bias', 'transformer.h.22.mixer.out_proj.weight.absmax', 'transformer.h.22.mixer.out_proj.weight.quant_map', 'transformer.h.22.mixer.out_proj.weight.nested_absmax', 'transformer.h.22.mixer.out_proj.weight.nested_quant_map', 'transformer.h.22.mixer.out_proj.weight.quant_state.bitsandbytes__nf4', 'transformer.h.22.mlp.fc1.weight', 'transformer.h.22.mlp.fc1.bias', 'transformer.h.22.mlp.fc1.weight.absmax', 'transformer.h.22.mlp.fc1.weight.quant_map', 'transformer.h.22.mlp.fc1.weight.nested_absmax', 'transformer.h.22.mlp.fc1.weight.nested_quant_map', 'transformer.h.22.mlp.fc1.weight.quant_state.bitsandbytes__nf4', 'transformer.h.22.mlp.fc2.weight', 'transformer.h.22.mlp.fc2.bias', 'transformer.h.22.mlp.fc2.weight.absmax', 'transformer.h.22.mlp.fc2.weight.quant_map', 'transformer.h.22.mlp.fc2.weight.nested_absmax', 'transformer.h.22.mlp.fc2.weight.nested_quant_map', 'transformer.h.22.mlp.fc2.weight.quant_state.bitsandbytes__nf4', 'transformer.h.23.ln.weight', 'transformer.h.23.ln.bias', 'transformer.h.23.mixer.Wqkv.weight', 'transformer.h.23.mixer.Wqkv.bias', 'transformer.h.23.mixer.Wqkv.weight.absmax', 'transformer.h.23.mixer.Wqkv.weight.quant_map', 'transformer.h.23.mixer.Wqkv.weight.nested_absmax', 'transformer.h.23.mixer.Wqkv.weight.nested_quant_map', 'transformer.h.23.mixer.Wqkv.weight.quant_state.bitsandbytes__nf4', 'transformer.h.23.mixer.out_proj.weight', 'transformer.h.23.mixer.out_proj.bias', 'transformer.h.23.mixer.out_proj.weight.absmax', 'transformer.h.23.mixer.out_proj.weight.quant_map', 'transformer.h.23.mixer.out_proj.weight.nested_absmax', 'transformer.h.23.mixer.out_proj.weight.nested_quant_map', 'transformer.h.23.mixer.out_proj.weight.quant_state.bitsandbytes__nf4', 'transformer.h.23.mlp.fc1.weight', 'transformer.h.23.mlp.fc1.bias', 'transformer.h.23.mlp.fc1.weight.absmax', 'transformer.h.23.mlp.fc1.weight.quant_map', 'transformer.h.23.mlp.fc1.weight.nested_absmax', 'transformer.h.23.mlp.fc1.weight.nested_quant_map', 'transformer.h.23.mlp.fc1.weight.quant_state.bitsandbytes__nf4', 'transformer.h.23.mlp.fc2.weight', 'transformer.h.23.mlp.fc2.bias', 'transformer.h.23.mlp.fc2.weight.absmax', 'transformer.h.23.mlp.fc2.weight.quant_map', 'transformer.h.23.mlp.fc2.weight.nested_absmax', 'transformer.h.23.mlp.fc2.weight.nested_quant_map', 'transformer.h.23.mlp.fc2.weight.quant_state.bitsandbytes__nf4', 'transformer.h.24.ln.weight', 'transformer.h.24.ln.bias', 'transformer.h.24.mixer.Wqkv.weight', 'transformer.h.24.mixer.Wqkv.bias', 'transformer.h.24.mixer.Wqkv.weight.absmax', 'transformer.h.24.mixer.Wqkv.weight.quant_map', 'transformer.h.24.mixer.Wqkv.weight.nested_absmax', 'transformer.h.24.mixer.Wqkv.weight.nested_quant_map', 'transformer.h.24.mixer.Wqkv.weight.quant_state.bitsandbytes__nf4', 'transformer.h.24.mixer.out_proj.weight', 'transformer.h.24.mixer.out_proj.bias', 'transformer.h.24.mixer.out_proj.weight.absmax', 'transformer.h.24.mixer.out_proj.weight.quant_map', 'transformer.h.24.mixer.out_proj.weight.nested_absmax', 'transformer.h.24.mixer.out_proj.weight.nested_quant_map', 'transformer.h.24.mixer.out_proj.weight.quant_state.bitsandbytes__nf4', 'transformer.h.24.mlp.fc1.weight', 'transformer.h.24.mlp.fc1.bias', 'transformer.h.24.mlp.fc1.weight.absmax', 'transformer.h.24.mlp.fc1.weight.quant_map', 'transformer.h.24.mlp.fc1.weight.nested_absmax', 'transformer.h.24.mlp.fc1.weight.nested_quant_map', 'transformer.h.24.mlp.fc1.weight.quant_state.bitsandbytes__nf4', 'transformer.h.24.mlp.fc2.weight', 'transformer.h.24.mlp.fc2.bias', 'transformer.h.24.mlp.fc2.weight.absmax', 'transformer.h.24.mlp.fc2.weight.quant_map', 'transformer.h.24.mlp.fc2.weight.nested_absmax', 'transformer.h.24.mlp.fc2.weight.nested_quant_map', 'transformer.h.24.mlp.fc2.weight.quant_state.bitsandbytes__nf4', 'transformer.h.25.ln.weight', 'transformer.h.25.ln.bias', 'transformer.h.25.mixer.Wqkv.weight', 'transformer.h.25.mixer.Wqkv.bias', 'transformer.h.25.mixer.Wqkv.weight.absmax', 'transformer.h.25.mixer.Wqkv.weight.quant_map', 'transformer.h.25.mixer.Wqkv.weight.nested_absmax', 'transformer.h.25.mixer.Wqkv.weight.nested_quant_map', 'transformer.h.25.mixer.Wqkv.weight.quant_state.bitsandbytes__nf4', 'transformer.h.25.mixer.out_proj.weight', 'transformer.h.25.mixer.out_proj.bias', 'transformer.h.25.mixer.out_proj.weight.absmax', 'transformer.h.25.mixer.out_proj.weight.quant_map', 'transformer.h.25.mixer.out_proj.weight.nested_absmax', 'transformer.h.25.mixer.out_proj.weight.nested_quant_map', 'transformer.h.25.mixer.out_proj.weight.quant_state.bitsandbytes__nf4', 'transformer.h.25.mlp.fc1.weight', 'transformer.h.25.mlp.fc1.bias', 'transformer.h.25.mlp.fc1.weight.absmax', 'transformer.h.25.mlp.fc1.weight.quant_map', 'transformer.h.25.mlp.fc1.weight.nested_absmax', 'transformer.h.25.mlp.fc1.weight.nested_quant_map', 'transformer.h.25.mlp.fc1.weight.quant_state.bitsandbytes__nf4', 'transformer.h.25.mlp.fc2.weight', 'transformer.h.25.mlp.fc2.bias', 'transformer.h.25.mlp.fc2.weight.absmax', 'transformer.h.25.mlp.fc2.weight.quant_map', 'transformer.h.25.mlp.fc2.weight.nested_absmax', 'transformer.h.25.mlp.fc2.weight.nested_quant_map', 'transformer.h.25.mlp.fc2.weight.quant_state.bitsandbytes__nf4', 'transformer.h.26.ln.weight', 'transformer.h.26.ln.bias', 'transformer.h.26.mixer.Wqkv.weight', 'transformer.h.26.mixer.Wqkv.bias', 'transformer.h.26.mixer.Wqkv.weight.absmax', 'transformer.h.26.mixer.Wqkv.weight.quant_map', 'transformer.h.26.mixer.Wqkv.weight.nested_absmax', 'transformer.h.26.mixer.Wqkv.weight.nested_quant_map', 'transformer.h.26.mixer.Wqkv.weight.quant_state.bitsandbytes__nf4', 'transformer.h.26.mixer.out_proj.weight', 'transformer.h.26.mixer.out_proj.bias', 'transformer.h.26.mixer.out_proj.weight.absmax', 'transformer.h.26.mixer.out_proj.weight.quant_map', 'transformer.h.26.mixer.out_proj.weight.nested_absmax', 'transformer.h.26.mixer.out_proj.weight.nested_quant_map', 'transformer.h.26.mixer.out_proj.weight.quant_state.bitsandbytes__nf4', 'transformer.h.26.mlp.fc1.weight', 'transformer.h.26.mlp.fc1.bias', 'transformer.h.26.mlp.fc1.weight.absmax', 'transformer.h.26.mlp.fc1.weight.quant_map', 'transformer.h.26.mlp.fc1.weight.nested_absmax', 'transformer.h.26.mlp.fc1.weight.nested_quant_map', 'transformer.h.26.mlp.fc1.weight.quant_state.bitsandbytes__nf4', 'transformer.h.26.mlp.fc2.weight', 'transformer.h.26.mlp.fc2.bias', 'transformer.h.26.mlp.fc2.weight.absmax', 'transformer.h.26.mlp.fc2.weight.quant_map', 'transformer.h.26.mlp.fc2.weight.nested_absmax', 'transformer.h.26.mlp.fc2.weight.nested_quant_map', 'transformer.h.26.mlp.fc2.weight.quant_state.bitsandbytes__nf4', 'transformer.h.27.ln.weight', 'transformer.h.27.ln.bias', 'transformer.h.27.mixer.Wqkv.weight', 'transformer.h.27.mixer.Wqkv.bias', 'transformer.h.27.mixer.Wqkv.weight.absmax', 'transformer.h.27.mixer.Wqkv.weight.quant_map', 'transformer.h.27.mixer.Wqkv.weight.nested_absmax', 'transformer.h.27.mixer.Wqkv.weight.nested_quant_map', 'transformer.h.27.mixer.Wqkv.weight.quant_state.bitsandbytes__nf4', 'transformer.h.27.mixer.out_proj.weight', 'transformer.h.27.mixer.out_proj.bias', 'transformer.h.27.mixer.out_proj.weight.absmax', 'transformer.h.27.mixer.out_proj.weight.quant_map', 'transformer.h.27.mixer.out_proj.weight.nested_absmax', 'transformer.h.27.mixer.out_proj.weight.nested_quant_map', 'transformer.h.27.mixer.out_proj.weight.quant_state.bitsandbytes__nf4', 'transformer.h.27.mlp.fc1.weight', 'transformer.h.27.mlp.fc1.bias', 'transformer.h.27.mlp.fc1.weight.absmax', 'transformer.h.27.mlp.fc1.weight.quant_map', 'transformer.h.27.mlp.fc1.weight.nested_absmax', 'transformer.h.27.mlp.fc1.weight.nested_quant_map', 'transformer.h.27.mlp.fc1.weight.quant_state.bitsandbytes__nf4', 'transformer.h.27.mlp.fc2.weight', 'transformer.h.27.mlp.fc2.bias', 'transformer.h.27.mlp.fc2.weight.absmax', 'transformer.h.27.mlp.fc2.weight.quant_map', 'transformer.h.27.mlp.fc2.weight.nested_absmax', 'transformer.h.27.mlp.fc2.weight.nested_quant_map', 'transformer.h.27.mlp.fc2.weight.quant_state.bitsandbytes__nf4', 'transformer.h.28.ln.weight', 'transformer.h.28.ln.bias', 'transformer.h.28.mixer.Wqkv.weight', 'transformer.h.28.mixer.Wqkv.bias', 'transformer.h.28.mixer.Wqkv.weight.absmax', 'transformer.h.28.mixer.Wqkv.weight.quant_map', 'transformer.h.28.mixer.Wqkv.weight.nested_absmax', 'transformer.h.28.mixer.Wqkv.weight.nested_quant_map', 'transformer.h.28.mixer.Wqkv.weight.quant_state.bitsandbytes__nf4', 'transformer.h.28.mixer.out_proj.weight', 'transformer.h.28.mixer.out_proj.bias', 'transformer.h.28.mixer.out_proj.weight.absmax', 'transformer.h.28.mixer.out_proj.weight.quant_map', 'transformer.h.28.mixer.out_proj.weight.nested_absmax', 'transformer.h.28.mixer.out_proj.weight.nested_quant_map', 'transformer.h.28.mixer.out_proj.weight.quant_state.bitsandbytes__nf4', 'transformer.h.28.mlp.fc1.weight', 'transformer.h.28.mlp.fc1.bias', 'transformer.h.28.mlp.fc1.weight.absmax', 'transformer.h.28.mlp.fc1.weight.quant_map', 'transformer.h.28.mlp.fc1.weight.nested_absmax', 'transformer.h.28.mlp.fc1.weight.nested_quant_map', 'transformer.h.28.mlp.fc1.weight.quant_state.bitsandbytes__nf4', 'transformer.h.28.mlp.fc2.weight', 'transformer.h.28.mlp.fc2.bias', 'transformer.h.28.mlp.fc2.weight.absmax', 'transformer.h.28.mlp.fc2.weight.quant_map', 'transformer.h.28.mlp.fc2.weight.nested_absmax', 'transformer.h.28.mlp.fc2.weight.nested_quant_map', 'transformer.h.28.mlp.fc2.weight.quant_state.bitsandbytes__nf4', 'transformer.h.29.ln.weight', 'transformer.h.29.ln.bias', 'transformer.h.29.mixer.Wqkv.weight', 'transformer.h.29.mixer.Wqkv.bias', 'transformer.h.29.mixer.Wqkv.weight.absmax', 'transformer.h.29.mixer.Wqkv.weight.quant_map', 'transformer.h.29.mixer.Wqkv.weight.nested_absmax', 'transformer.h.29.mixer.Wqkv.weight.nested_quant_map', 'transformer.h.29.mixer.Wqkv.weight.quant_state.bitsandbytes__nf4', 'transformer.h.29.mixer.out_proj.weight', 'transformer.h.29.mixer.out_proj.bias', 'transformer.h.29.mixer.out_proj.weight.absmax', 'transformer.h.29.mixer.out_proj.weight.quant_map', 'transformer.h.29.mixer.out_proj.weight.nested_absmax', 'transformer.h.29.mixer.out_proj.weight.nested_quant_map', 'transformer.h.29.mixer.out_proj.weight.quant_state.bitsandbytes__nf4', 'transformer.h.29.mlp.fc1.weight', 'transformer.h.29.mlp.fc1.bias', 'transformer.h.29.mlp.fc1.weight.absmax', 'transformer.h.29.mlp.fc1.weight.quant_map', 'transformer.h.29.mlp.fc1.weight.nested_absmax', 'transformer.h.29.mlp.fc1.weight.nested_quant_map', 'transformer.h.29.mlp.fc1.weight.quant_state.bitsandbytes__nf4', 'transformer.h.29.mlp.fc2.weight', 'transformer.h.29.mlp.fc2.bias', 'transformer.h.29.mlp.fc2.weight.absmax', 'transformer.h.29.mlp.fc2.weight.quant_map', 'transformer.h.29.mlp.fc2.weight.nested_absmax', 'transformer.h.29.mlp.fc2.weight.nested_quant_map', 'transformer.h.29.mlp.fc2.weight.quant_state.bitsandbytes__nf4', 'transformer.h.30.ln.weight', 'transformer.h.30.ln.bias', 'transformer.h.30.mixer.Wqkv.weight', 'transformer.h.30.mixer.Wqkv.bias', 'transformer.h.30.mixer.Wqkv.weight.absmax', 'transformer.h.30.mixer.Wqkv.weight.quant_map', 'transformer.h.30.mixer.Wqkv.weight.nested_absmax', 'transformer.h.30.mixer.Wqkv.weight.nested_quant_map', 'transformer.h.30.mixer.Wqkv.weight.quant_state.bitsandbytes__nf4', 'transformer.h.30.mixer.out_proj.weight', 'transformer.h.30.mixer.out_proj.bias', 'transformer.h.30.mixer.out_proj.weight.absmax', 'transformer.h.30.mixer.out_proj.weight.quant_map', 'transformer.h.30.mixer.out_proj.weight.nested_absmax', 'transformer.h.30.mixer.out_proj.weight.nested_quant_map', 'transformer.h.30.mixer.out_proj.weight.quant_state.bitsandbytes__nf4', 'transformer.h.30.mlp.fc1.weight', 'transformer.h.30.mlp.fc1.bias', 'transformer.h.30.mlp.fc1.weight.absmax', 'transformer.h.30.mlp.fc1.weight.quant_map', 'transformer.h.30.mlp.fc1.weight.nested_absmax', 'transformer.h.30.mlp.fc1.weight.nested_quant_map', 'transformer.h.30.mlp.fc1.weight.quant_state.bitsandbytes__nf4', 'transformer.h.30.mlp.fc2.weight', 'transformer.h.30.mlp.fc2.bias', 'transformer.h.30.mlp.fc2.weight.absmax', 'transformer.h.30.mlp.fc2.weight.quant_map', 'transformer.h.30.mlp.fc2.weight.nested_absmax', 'transformer.h.30.mlp.fc2.weight.nested_quant_map', 'transformer.h.30.mlp.fc2.weight.quant_state.bitsandbytes__nf4', 'transformer.h.31.ln.weight', 'transformer.h.31.ln.bias', 'transformer.h.31.mixer.Wqkv.weight', 'transformer.h.31.mixer.Wqkv.bias', 'transformer.h.31.mixer.Wqkv.weight.absmax', 'transformer.h.31.mixer.Wqkv.weight.quant_map', 'transformer.h.31.mixer.Wqkv.weight.nested_absmax', 'transformer.h.31.mixer.Wqkv.weight.nested_quant_map', 'transformer.h.31.mixer.Wqkv.weight.quant_state.bitsandbytes__nf4', 'transformer.h.31.mixer.out_proj.weight', 'transformer.h.31.mixer.out_proj.bias', 'transformer.h.31.mixer.out_proj.weight.absmax', 'transformer.h.31.mixer.out_proj.weight.quant_map', 'transformer.h.31.mixer.out_proj.weight.nested_absmax', 'transformer.h.31.mixer.out_proj.weight.nested_quant_map', 'transformer.h.31.mixer.out_proj.weight.quant_state.bitsandbytes__nf4', 'transformer.h.31.mlp.fc1.weight', 'transformer.h.31.mlp.fc1.bias', 'transformer.h.31.mlp.fc1.weight.absmax', 'transformer.h.31.mlp.fc1.weight.quant_map', 'transformer.h.31.mlp.fc1.weight.nested_absmax', 'transformer.h.31.mlp.fc1.weight.nested_quant_map', 'transformer.h.31.mlp.fc1.weight.quant_state.bitsandbytes__nf4', 'transformer.h.31.mlp.fc2.weight', 'transformer.h.31.mlp.fc2.bias', 'transformer.h.31.mlp.fc2.weight.absmax', 'transformer.h.31.mlp.fc2.weight.quant_map', 'transformer.h.31.mlp.fc2.weight.nested_absmax', 'transformer.h.31.mlp.fc2.weight.nested_quant_map', 'transformer.h.31.mlp.fc2.weight.quant_state.bitsandbytes__nf4', 'lm_head.ln.weight', 'lm_head.ln.bias', 'lm_head.linear.weight', 'lm_head.linear.bias'])\n"
     ]
    }
   ],
   "source": [
    "# print state dict\n",
    "print(model.state_dict().keys())"
   ]
  },
  {
   "cell_type": "code",
   "execution_count": 26,
   "metadata": {},
   "outputs": [
    {
     "name": "stdout",
     "output_type": "stream",
     "text": [
      "trainable params: 130799744 || all params: 1647603968 || trainable%: 7.938785444828451\n"
     ]
    }
   ],
   "source": [
    "\n",
    "\n",
    "def print_trainable_parameters(model):\n",
    "    \"\"\"\n",
    "    Prints the number of trainable parameters in the model.\n",
    "    \"\"\"\n",
    "    trainable_params = 0\n",
    "    all_param = 0\n",
    "    for _, param in model.named_parameters():\n",
    "        all_param += param.numel()\n",
    "        if param.requires_grad:\n",
    "            trainable_params += param.numel()\n",
    "    print(\n",
    "        f\"trainable params: {trainable_params} || all params: {all_param} || trainable%: {100 * trainable_params / all_param}\"\n",
    "    )\n",
    "\n",
    "\n",
    "config = LoraConfig(\n",
    "    r=4,\n",
    "    lora_alpha=16,\n",
    "    target_modules=[\n",
    "        'Wqkv', 'out_proj'\n",
    "    ],\n",
    "    bias=\"none\",\n",
    "    lora_dropout=0.05,\n",
    "    # because we added new tokens\n",
    "    modules_to_save=[\"lm_head\", \"embed_tokens\"],\n",
    "    task_type=\"CAUSAL_LM\",\n",
    ")\n",
    "\n",
    "model = get_peft_model(model, config)\n",
    "print_trainable_parameters(model)"
   ]
  },
  {
   "cell_type": "code",
   "execution_count": 28,
   "metadata": {},
   "outputs": [],
   "source": [
    "trainer = transformers.Trainer(\n",
    "    model=model,\n",
    "    train_dataset=tokenized_train_dataset,\n",
    "    # eval_dataset=tokenized_eval_dataset,\n",
    "    args=transformers.TrainingArguments(\n",
    "        output_dir=output_dir,\n",
    "        warmup_steps=0,\n",
    "        per_device_train_batch_size=4,\n",
    "        gradient_accumulation_steps=1,\n",
    "        max_steps=100,\n",
    "        learning_rate=2.5e-5,\n",
    "        lr_scheduler_type=\"constant\",\n",
    "        logging_steps=50,\n",
    "        dataloader_num_workers=4,\n",
    "        bf16=True,\n",
    "        optim=\"paged_adamw_8bit\",\n",
    "        logging_dir=\"./logs\",        # Directory for storing logs\n",
    "        save_strategy=\"steps\",       # Save the model checkpoint every logging step\n",
    "        save_steps=50,                # Save checkpoints every 50 steps\n",
    "        report_to=\"tensorboard\",\n",
    "        # Name of the W&B run (optional)\n",
    "        # run_name=f\"{run_name}-{datetime.now().strftime('%Y-%m-%d-%H-%M')}\"\n",
    "    ),\n",
    "    data_collator=transformers.DataCollatorForLanguageModeling(\n",
    "        tokenizer, mlm=False),\n",
    ")"
   ]
  },
  {
   "cell_type": "code",
   "execution_count": 29,
   "metadata": {},
   "outputs": [
    {
     "name": "stderr",
     "output_type": "stream",
     "text": [
      "You're using a CodeGenTokenizerFast tokenizer. Please note that with a fast tokenizer, using the `__call__` method is faster than using a method to encode the text followed by a call to the `pad` method to get a padded encoding.\n",
      "You're using a CodeGenTokenizerFast tokenizer. Please note that with a fast tokenizer, using the `__call__` method is faster than using a method to encode the text followed by a call to the `pad` method to get a padded encoding.\n",
      "You're using a CodeGenTokenizerFast tokenizer. Please note that with a fast tokenizer, using the `__call__` method is faster than using a method to encode the text followed by a call to the `pad` method to get a padded encoding.\n",
      "You're using a CodeGenTokenizerFast tokenizer. Please note that with a fast tokenizer, using the `__call__` method is faster than using a method to encode the text followed by a call to the `pad` method to get a padded encoding.\n"
     ]
    },
    {
     "data": {
      "text/html": [
       "\n",
       "    <div>\n",
       "      \n",
       "      <progress value='100' max='100' style='width:300px; height:20px; vertical-align: middle;'></progress>\n",
       "      [100/100 00:32, Epoch 0/1]\n",
       "    </div>\n",
       "    <table border=\"1\" class=\"dataframe\">\n",
       "  <thead>\n",
       " <tr style=\"text-align: left;\">\n",
       "      <th>Step</th>\n",
       "      <th>Training Loss</th>\n",
       "    </tr>\n",
       "  </thead>\n",
       "  <tbody>\n",
       "    <tr>\n",
       "      <td>50</td>\n",
       "      <td>2.521300</td>\n",
       "    </tr>\n",
       "    <tr>\n",
       "      <td>100</td>\n",
       "      <td>1.743700</td>\n",
       "    </tr>\n",
       "  </tbody>\n",
       "</table><p>"
      ],
      "text/plain": [
       "<IPython.core.display.HTML object>"
      ]
     },
     "metadata": {},
     "output_type": "display_data"
    },
    {
     "data": {
      "text/plain": [
       "TrainOutput(global_step=100, training_loss=2.1325, metrics={'train_runtime': 34.3687, 'train_samples_per_second': 11.638, 'train_steps_per_second': 2.91, 'total_flos': 1706260640563200.0, 'train_loss': 2.1325, 'epoch': 0.05})"
      ]
     },
     "execution_count": 29,
     "metadata": {},
     "output_type": "execute_result"
    }
   ],
   "source": [
    "trainer.train()"
   ]
  },
  {
   "cell_type": "code",
   "execution_count": 30,
   "metadata": {},
   "outputs": [],
   "source": [
    "model.save_pretrained(output_dir)"
   ]
  }
 ],
 "metadata": {
  "kernelspec": {
   "display_name": ".venv",
   "language": "python",
   "name": "python3"
  },
  "language_info": {
   "codemirror_mode": {
    "name": "ipython",
    "version": 3
   },
   "file_extension": ".py",
   "mimetype": "text/x-python",
   "name": "python",
   "nbconvert_exporter": "python",
   "pygments_lexer": "ipython3",
   "version": "3.9.18"
  }
 },
 "nbformat": 4,
 "nbformat_minor": 2
}
