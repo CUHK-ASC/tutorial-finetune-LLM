{
 "cells": [
  {
   "cell_type": "code",
   "execution_count": 1,
   "metadata": {},
   "outputs": [
    {
     "name": "stderr",
     "output_type": "stream",
     "text": [
      "/home/heichtai/Projects/tutorial-finetune-LLM/.venv/lib/python3.9/site-packages/tqdm/auto.py:21: TqdmWarning: IProgress not found. Please update jupyter and ipywidgets. See https://ipywidgets.readthedocs.io/en/stable/user_install.html\n",
      "  from .autonotebook import tqdm as notebook_tqdm\n"
     ]
    }
   ],
   "source": [
    "import transformers\n",
    "from peft import LoraConfig, prepare_model_for_kbit_training, get_peft_model\n",
    "from datasets import load_dataset\n",
    "from transformers import AutoTokenizer, Trainer, AutoModelForCausalLM, BitsAndBytesConfig\n",
    "import torch\n",
    "import os"
   ]
  },
  {
   "cell_type": "code",
   "execution_count": 2,
   "metadata": {},
   "outputs": [],
   "source": [
    "# Define model and project details\n",
    "model_name = 'microsoft/phi-2'\n",
    "project = \"Evol-Instruct-Code-80k-v1-10-precent\"\n",
    "\n",
    "# Extract base model name from the model name\n",
    "# Use -1 to handle cases where model_name doesn't contain \"/\"\n",
    "base_model_name = model_name.split(\"/\")[-1]\n",
    "\n",
    "# Construct run name and output directory\n",
    "run_name = f\"{base_model_name}-{project}\"\n",
    "output_dir = f\"./{run_name}\"\n",
    "\n",
    "# Define device for training\n",
    "device = 'cpu'"
   ]
  },
  {
   "cell_type": "code",
   "execution_count": 3,
   "metadata": {},
   "outputs": [
    {
     "name": "stdout",
     "output_type": "stream",
     "text": [
      "Dataset({\n",
      "    features: ['instruction', 'output'],\n",
      "    num_rows: 7826\n",
      "})\n"
     ]
    }
   ],
   "source": [
    "# Load the dataset from the HuggingFace Hub\n",
    "huggingface_dataset_name = \"nickrosh/Evol-Instruct-Code-80k-v1\"\n",
    "# For the sake of this example, we will only use the first 10% of the training set\n",
    "train_dataset = load_dataset(huggingface_dataset_name, split=\"train[:10%]\")\n",
    "print(train_dataset)"
   ]
  },
  {
   "cell_type": "code",
   "execution_count": 4,
   "metadata": {},
   "outputs": [
    {
     "name": "stdout",
     "output_type": "stream",
     "text": [
      "--2024-01-12 17:27:06--  https://huggingface.co/datasets/nickrosh/Evol-Instruct-Code-80k-v1/resolve/main/EvolInstruct-Code-80k.json?download=true\n",
      "Loaded CA certificate '/etc/ssl/certs/ca-certificates.crt'\n",
      "Resolving huggingface.co (huggingface.co)... 13.224.167.24, 13.224.167.105, 13.224.167.123, ...\n",
      "Connecting to huggingface.co (huggingface.co)|13.224.167.24|:443... connected.\n",
      "HTTP request sent, awaiting response... "
     ]
    },
    {
     "name": "stdout",
     "output_type": "stream",
     "text": [
      "302 Found\n",
      "Location: https://cdn-lfs.huggingface.co/repos/a8/e2/a8e206c6c64ab0de37467edf7c35ade23c3f66faefa205ec52ca31b0a15f5ec8/df31f664fe2db3c2e3e7c34774fdb2b1ad37e526ebfaa8f68d822087c5ab8d8d?response-content-disposition=attachment%3B+filename*%3DUTF-8%27%27EvolInstruct-Code-80k.json%3B+filename%3D%22EvolInstruct-Code-80k.json%22%3B&response-content-type=application%2Fjson&Expires=1705310826&Policy=eyJTdGF0ZW1lbnQiOlt7IkNvbmRpdGlvbiI6eyJEYXRlTGVzc1RoYW4iOnsiQVdTOkVwb2NoVGltZSI6MTcwNTMxMDgyNn19LCJSZXNvdXJjZSI6Imh0dHBzOi8vY2RuLWxmcy5odWdnaW5nZmFjZS5jby9yZXBvcy9hOC9lMi9hOGUyMDZjNmM2NGFiMGRlMzc0NjdlZGY3YzM1YWRlMjNjM2Y2NmZhZWZhMjA1ZWM1MmNhMzFiMGExNWY1ZWM4L2RmMzFmNjY0ZmUyZGIzYzJlM2U3YzM0Nzc0ZmRiMmIxYWQzN2U1MjZlYmZhYThmNjhkODIyMDg3YzVhYjhkOGQ%7EcmVzcG9uc2UtY29udGVudC1kaXNwb3NpdGlvbj0qJnJlc3BvbnNlLWNvbnRlbnQtdHlwZT0qIn1dfQ__&Signature=GRC3FLf6WpGQt4enNvlsnqSuXinG95NUx6rAJAFKuWGxVX%7Eabp2go%7EN7WMZ1Zu0w9zOqswpeTaDAzAmUXJYilpG2LCkDLsPYSr6S%7EcMrM99MuaADk4aI8JWlubcrH97WUjiU1PtUD1czddcNBCCd4rbkC98Ef5qq12fJoInLNHKKUB%7EyMyHXL9FUKl%7EQ6Q4Pvsl%7E1gdgXAnEuXQ6sdmB7Qf9BO9F956yJnZQ8ZuPs4CayVOekmxk-HVWcF77DC9B8MH3mz-QB0HQtXGk6uwzNOemXB1vopT3g--Yoh4fbFHM6jJ7zPUwcHt-IDuHiBHLUK7QR-AMg7W6hw8Z7bHDwg__&Key-Pair-Id=KVTP0A1DKRTAX [following]\n",
      "--2024-01-12 17:27:06--  https://cdn-lfs.huggingface.co/repos/a8/e2/a8e206c6c64ab0de37467edf7c35ade23c3f66faefa205ec52ca31b0a15f5ec8/df31f664fe2db3c2e3e7c34774fdb2b1ad37e526ebfaa8f68d822087c5ab8d8d?response-content-disposition=attachment%3B+filename*%3DUTF-8%27%27EvolInstruct-Code-80k.json%3B+filename%3D%22EvolInstruct-Code-80k.json%22%3B&response-content-type=application%2Fjson&Expires=1705310826&Policy=eyJTdGF0ZW1lbnQiOlt7IkNvbmRpdGlvbiI6eyJEYXRlTGVzc1RoYW4iOnsiQVdTOkVwb2NoVGltZSI6MTcwNTMxMDgyNn19LCJSZXNvdXJjZSI6Imh0dHBzOi8vY2RuLWxmcy5odWdnaW5nZmFjZS5jby9yZXBvcy9hOC9lMi9hOGUyMDZjNmM2NGFiMGRlMzc0NjdlZGY3YzM1YWRlMjNjM2Y2NmZhZWZhMjA1ZWM1MmNhMzFiMGExNWY1ZWM4L2RmMzFmNjY0ZmUyZGIzYzJlM2U3YzM0Nzc0ZmRiMmIxYWQzN2U1MjZlYmZhYThmNjhkODIyMDg3YzVhYjhkOGQ%7EcmVzcG9uc2UtY29udGVudC1kaXNwb3NpdGlvbj0qJnJlc3BvbnNlLWNvbnRlbnQtdHlwZT0qIn1dfQ__&Signature=GRC3FLf6WpGQt4enNvlsnqSuXinG95NUx6rAJAFKuWGxVX%7Eabp2go%7EN7WMZ1Zu0w9zOqswpeTaDAzAmUXJYilpG2LCkDLsPYSr6S%7EcMrM99MuaADk4aI8JWlubcrH97WUjiU1PtUD1czddcNBCCd4rbkC98Ef5qq12fJoInLNHKKUB%7EyMyHXL9FUKl%7EQ6Q4Pvsl%7E1gdgXAnEuXQ6sdmB7Qf9BO9F956yJnZQ8ZuPs4CayVOekmxk-HVWcF77DC9B8MH3mz-QB0HQtXGk6uwzNOemXB1vopT3g--Yoh4fbFHM6jJ7zPUwcHt-IDuHiBHLUK7QR-AMg7W6hw8Z7bHDwg__&Key-Pair-Id=KVTP0A1DKRTAX\n",
      "Resolving cdn-lfs.huggingface.co (cdn-lfs.huggingface.co)... 13.224.167.110, 13.224.167.90, 13.224.167.3, ...\n",
      "Connecting to cdn-lfs.huggingface.co (cdn-lfs.huggingface.co)|13.224.167.110|:443... connected.\n",
      "HTTP request sent, awaiting response... 200 OK\n",
      "Length: 121454735 (116M) [application/json]\n",
      "Saving to: ‘./EvolInstruct-Code-80k.json’\n",
      "\n",
      "./EvolInstruct-Code 100%[===================>] 115.83M  37.0MB/s    in 3.2s    \n",
      "\n",
      "2024-01-12 17:27:10 (36.2 MB/s) - ‘./EvolInstruct-Code-80k.json’ saved [121454735/121454735]\n",
      "\n",
      "IterableDataset({\n",
      "    features: ['output', 'instruction'],\n",
      "    n_shards: 1\n",
      "})\n"
     ]
    }
   ],
   "source": [
    "# ...Or load a generator from a local file\n",
    "# Download the dataset\n",
    "! wget 'https://huggingface.co/datasets/nickrosh/Evol-Instruct-Code-80k-v1/resolve/main/EvolInstruct-Code-80k.json?download=true' -O './EvolInstruct-Code-80k.json'\n",
    "\n",
    "data_files = {\"train\": \"./EvolInstruct-Code-80k.json\"}\n",
    "train_dataset = load_dataset(\n",
    "    \"json\", data_files=data_files, split=\"train\", streaming=True)\n",
    "print(train_dataset)"
   ]
  },
  {
   "cell_type": "code",
   "execution_count": 5,
   "metadata": {},
   "outputs": [
    {
     "name": "stdout",
     "output_type": "stream",
     "text": [
      "Dataset({\n",
      "    features: ['output', 'instruction'],\n",
      "    num_rows: 7826\n",
      "})\n"
     ]
    }
   ],
   "source": [
    "# ...Or load the whole dataset from a local file if the dataset is small enough\n",
    "data_files = {\"train\": \"./EvolInstruct-Code-80k.json\"}\n",
    "train_dataset = load_dataset(\n",
    "    \"json\", data_files=data_files, split=\"train[:10%]\")\n",
    "print(train_dataset)"
   ]
  },
  {
   "cell_type": "markdown",
   "metadata": {},
   "source": [
    "For more on information about creating your own dataset, please see https://huggingface.co/docs/datasets/create_dataset"
   ]
  },
  {
   "cell_type": "code",
   "execution_count": 6,
   "metadata": {},
   "outputs": [
    {
     "name": "stderr",
     "output_type": "stream",
     "text": [
      "Loading checkpoint shards: 100%|██████████| 2/2 [00:06<00:00,  3.29s/it]\n"
     ]
    },
    {
     "data": {
      "text/plain": [
       "PhiForCausalLM(\n",
       "  (transformer): PhiModel(\n",
       "    (embd): Embedding(\n",
       "      (wte): Embedding(51200, 2560)\n",
       "      (drop): Dropout(p=0.0, inplace=False)\n",
       "    )\n",
       "    (h): ModuleList(\n",
       "      (0-31): 32 x ParallelBlock(\n",
       "        (ln): LayerNorm((2560,), eps=1e-05, elementwise_affine=True)\n",
       "        (resid_dropout): Dropout(p=0.1, inplace=False)\n",
       "        (mixer): MHA(\n",
       "          (rotary_emb): RotaryEmbedding()\n",
       "          (Wqkv): Linear(in_features=2560, out_features=7680, bias=True)\n",
       "          (out_proj): Linear(in_features=2560, out_features=2560, bias=True)\n",
       "          (inner_attn): SelfAttention(\n",
       "            (drop): Dropout(p=0.0, inplace=False)\n",
       "          )\n",
       "          (inner_cross_attn): CrossAttention(\n",
       "            (drop): Dropout(p=0.0, inplace=False)\n",
       "          )\n",
       "        )\n",
       "        (mlp): MLP(\n",
       "          (fc1): Linear(in_features=2560, out_features=10240, bias=True)\n",
       "          (fc2): Linear(in_features=10240, out_features=2560, bias=True)\n",
       "          (act): NewGELUActivation()\n",
       "        )\n",
       "      )\n",
       "    )\n",
       "  )\n",
       "  (lm_head): CausalLMHead(\n",
       "    (ln): LayerNorm((2560,), eps=1e-05, elementwise_affine=True)\n",
       "    (linear): Linear(in_features=2560, out_features=51200, bias=True)\n",
       "  )\n",
       "  (loss): CausalLMLoss(\n",
       "    (loss_fct): CrossEntropyLoss()\n",
       "  )\n",
       ")"
      ]
     },
     "execution_count": 6,
     "metadata": {},
     "output_type": "execute_result"
    }
   ],
   "source": [
    "# Sadly, we can only train quantized model on GPU using BitsandBytes, which is a warpper for CUDA.\n",
    "# For cpu, use float32.\n",
    "model = AutoModelForCausalLM.from_pretrained(\n",
    "    model_name,\n",
    "    torch_dtype=torch.float32,\n",
    "    trust_remote_code=True,\n",
    "    # This is the PR that adds gradient checkpointing. It is not merged yet. This kind of thing is the cost of being on the bleeding edge.\n",
    "    revision=\"refs/pr/23\",\n",
    ")\n",
    "model.to(device)"
   ]
  },
  {
   "cell_type": "code",
   "execution_count": 7,
   "metadata": {},
   "outputs": [
    {
     "name": "stderr",
     "output_type": "stream",
     "text": [
      "Special tokens have been added in the vocabulary, make sure the associated word embeddings are fine-tuned or trained.\n"
     ]
    }
   ],
   "source": [
    "# Load and config the tokenizer\n",
    "\n",
    "tokenizer = AutoTokenizer.from_pretrained(\n",
    "    model_name,\n",
    "    padding_side=\"left\",\n",
    "    add_eos_token=True,\n",
    "    use_fast=True,\n",
    ")\n",
    "\n",
    "# add special tokens for ChatML formatting and a pad token\n",
    "tokenizer.add_tokens([\"<|im_start|>\", \"<PAD>\"])\n",
    "tokenizer.pad_token = \"<PAD>\"\n",
    "tokenizer.add_special_tokens(dict(eos_token=\"<|im_end|>\"))\n",
    "# For the sake of memory and time, we will only use 64 tokens\n",
    "tokenizer.model_max_length = 64\n",
    "# resize model embeddings\n",
    "model.resize_token_embeddings(\n",
    "    new_num_tokens=len(tokenizer),\n",
    "    pad_to_multiple_of=64)   # phi2 default is 64, see configuration_phi.py\n",
    "model.config.eos_token_id = tokenizer.eos_token_id"
   ]
  },
  {
   "cell_type": "code",
   "execution_count": 8,
   "metadata": {},
   "outputs": [
    {
     "name": "stderr",
     "output_type": "stream",
     "text": [
      "Map (num_proc=32): 100%|██████████| 7826/7826 [00:00<00:00, 12096.94 examples/s]\n"
     ]
    }
   ],
   "source": [
    "# Define the tokenizing function to tokenize the dataset\n",
    "def tokenize_function(data_point):\n",
    "    def get_prompt(inst):\n",
    "        return f\"\"\"\n",
    "        # System:\n",
    "        You are a helpful AI assistant. Follow the instruction. \n",
    "        # INSTRUCTION:\n",
    "        {inst}\n",
    "        # CODE:\n",
    "        \"\"\"\n",
    "    prompts = [get_prompt(inst) for inst in data_point['instruction']]\n",
    "    data_point['input_ids'] = tokenizer(\n",
    "        prompts,\n",
    "        truncation=True,\n",
    "        max_length=tokenizer.model_max_length,\n",
    "        padding='max_length',\n",
    "    ).input_ids\n",
    "    data_point['labels'] = tokenizer(\n",
    "        data_point['output'],\n",
    "        truncation=True,\n",
    "        max_length=tokenizer.model_max_length,\n",
    "        padding='max_length',\n",
    "    ).input_ids\n",
    "    return data_point\n",
    "\n",
    "\n",
    "tokenized_train_dataset = train_dataset.map(\n",
    "    tokenize_function, batched=True, num_proc=os.cpu_count())"
   ]
  },
  {
   "cell_type": "code",
   "execution_count": 9,
   "metadata": {},
   "outputs": [],
   "source": [
    "# Apply the Peft adapter\n",
    "config = LoraConfig(\n",
    "    r=1,\n",
    "    lora_alpha=16,\n",
    "    target_modules=[\n",
    "        'Wqkv', 'out_proj'\n",
    "    ],\n",
    "    bias=\"none\",\n",
    "    lora_dropout=0.05,\n",
    "    # because we added new tokens\n",
    "    modules_to_save=[\"lm_head\", \"embed_tokens\"],\n",
    "    task_type=\"CAUSAL_LM\",\n",
    ")\n",
    "\n",
    "model = get_peft_model(model, config)"
   ]
  },
  {
   "cell_type": "code",
   "execution_count": 10,
   "metadata": {},
   "outputs": [
    {
     "name": "stdout",
     "output_type": "stream",
     "text": [
      "trainable params: 129325184 || all params: 2904420608 || trainable%: 4.4527016384536\n"
     ]
    }
   ],
   "source": [
    "# We can see the number of trainable parameters are only few percent of the original model\n",
    "def print_trainable_parameters(model):\n",
    "    \"\"\"\n",
    "    Prints the number of trainable parameters in the model.\n",
    "    \"\"\"\n",
    "    trainable_params = 0\n",
    "    all_param = 0\n",
    "    for _, param in model.named_parameters():\n",
    "        all_param += param.numel()\n",
    "        if param.requires_grad:\n",
    "            trainable_params += param.numel()\n",
    "    print(\n",
    "        f\"trainable params: {trainable_params} || all params: {all_param} || trainable%: {100 * trainable_params / all_param}\"\n",
    "    )\n",
    "\n",
    "\n",
    "print_trainable_parameters(model)"
   ]
  },
  {
   "cell_type": "code",
   "execution_count": 11,
   "metadata": {},
   "outputs": [],
   "source": [
    "# Define the trainer\n",
    "trainer = transformers.Trainer(\n",
    "    model=model,\n",
    "    train_dataset=tokenized_train_dataset,\n",
    "    args=transformers.TrainingArguments(\n",
    "        output_dir=output_dir,\n",
    "        warmup_steps=0,\n",
    "        per_device_train_batch_size=1,\n",
    "        gradient_accumulation_steps=1,\n",
    "        max_steps=100,\n",
    "        learning_rate=2.5e-5,\n",
    "        lr_scheduler_type=\"constant\",\n",
    "        logging_steps=50,\n",
    "        dataloader_num_workers=4,\n",
    "        optim=\"adamw_hf\",\n",
    "        logging_dir=\"./logs\",        # Directory for storing logs\n",
    "        save_strategy=\"steps\",       # Save the model checkpoint every logging step\n",
    "        save_steps=50,                # Save checkpoints every 50 steps\n",
    "        report_to=\"tensorboard\",\n",
    "    ),\n",
    "    data_collator=transformers.DataCollatorForLanguageModeling(\n",
    "        tokenizer, mlm=False),\n",
    ")"
   ]
  },
  {
   "cell_type": "code",
   "execution_count": 12,
   "metadata": {},
   "outputs": [
    {
     "name": "stderr",
     "output_type": "stream",
     "text": [
      "/home/heichtai/Projects/tutorial-finetune-LLM/.venv/lib/python3.9/site-packages/transformers/optimization.py:429: FutureWarning: This implementation of AdamW is deprecated and will be removed in a future version. Use the PyTorch implementation torch.optim.AdamW instead, or set `no_deprecation_warning=True` to disable this warning\n",
      "  warnings.warn(\n",
      "You're using a CodeGenTokenizerFast tokenizer. Please note that with a fast tokenizer, using the `__call__` method is faster than using a method to encode the text followed by a call to the `pad` method to get a padded encoding.\n",
      "You're using a CodeGenTokenizerFast tokenizer. Please note that with a fast tokenizer, using the `__call__` method is faster than using a method to encode the text followed by a call to the `pad` method to get a padded encoding.\n",
      "You're using a CodeGenTokenizerFast tokenizer. Please note that with a fast tokenizer, using the `__call__` method is faster than using a method to encode the text followed by a call to the `pad` method to get a padded encoding.\n",
      "You're using a CodeGenTokenizerFast tokenizer. Please note that with a fast tokenizer, using the `__call__` method is faster than using a method to encode the text followed by a call to the `pad` method to get a padded encoding.\n"
     ]
    },
    {
     "data": {
      "text/html": [
       "\n",
       "    <div>\n",
       "      \n",
       "      <progress value='100' max='100' style='width:300px; height:20px; vertical-align: middle;'></progress>\n",
       "      [100/100 00:16, Epoch 0/1]\n",
       "    </div>\n",
       "    <table border=\"1\" class=\"dataframe\">\n",
       "  <thead>\n",
       " <tr style=\"text-align: left;\">\n",
       "      <th>Step</th>\n",
       "      <th>Training Loss</th>\n",
       "    </tr>\n",
       "  </thead>\n",
       "  <tbody>\n",
       "    <tr>\n",
       "      <td>50</td>\n",
       "      <td>1.940100</td>\n",
       "    </tr>\n",
       "    <tr>\n",
       "      <td>100</td>\n",
       "      <td>1.219700</td>\n",
       "    </tr>\n",
       "  </tbody>\n",
       "</table><p>"
      ],
      "text/plain": [
       "<IPython.core.display.HTML object>"
      ]
     },
     "metadata": {},
     "output_type": "display_data"
    },
    {
     "name": "stderr",
     "output_type": "stream",
     "text": [
      "Checkpoint destination directory ./phi-2-Evol-Instruct-Code-80k-v1-10-precent/checkpoint-50 already exists and is non-empty.Saving will proceed but saved results may be invalid.\n",
      "Checkpoint destination directory ./phi-2-Evol-Instruct-Code-80k-v1-10-precent/checkpoint-100 already exists and is non-empty.Saving will proceed but saved results may be invalid.\n"
     ]
    }
   ],
   "source": [
    "# Train!\n",
    "trainer.train()\n",
    "model.save_pretrained(output_dir)"
   ]
  }
 ],
 "metadata": {
  "kernelspec": {
   "display_name": ".venv",
   "language": "python",
   "name": "python3"
  },
  "language_info": {
   "codemirror_mode": {
    "name": "ipython",
    "version": 3
   },
   "file_extension": ".py",
   "mimetype": "text/x-python",
   "name": "python",
   "nbconvert_exporter": "python",
   "pygments_lexer": "ipython3",
   "version": "3.9.18"
  }
 },
 "nbformat": 4,
 "nbformat_minor": 2
}
